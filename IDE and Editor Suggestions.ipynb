{
 "cells": [
  {
   "cell_type": "markdown",
   "metadata": {},
   "source": [
    "## IDEs\n",
    "\n",
    "This is a list and short description of strengths and weaknesses of various IDEs for python you might come across.  Feel free to add your name if you use one of these.  Lots of people seem to prefer simply using a good text editor (see below), but IDEs definitely have some benefits (e.g. integrated consoles, debuggers, integrated git, etc.).  Here's a long list of [Python IDEs](https://wiki.python.org/moin/IntegratedDevelopmentEnvironments)."
   ]
  },
  {
   "cell_type": "markdown",
   "metadata": {},
   "source": [
    "### Pycharm\n",
    "[Pycharm](https://www.jetbrains.com/pycharm/) is reasonably new, but a few people in the lab really like it.\n",
    "\n",
    "*Strengths*\n",
    "- Works really well with minimal configuration tweaking\n",
    "- Has a really good debugger and profiler\n",
    "- Code completion and analysis runs faster than in other editors\n",
    "- Lower learning curve if you're not used to the Command Line\n",
    "- Awesome code refactoring tools\n",
    "- Cross-platform\n",
    "\n",
    "*Weaknesses*\n",
    "- Still has a bit of a learning curve.\n",
    "- Some really weird keyboard shortcuts if you're used to other editors. Sean recommends just using [his settings repository](https://github.com/Seanny123/pycharm-settings) which uses Sublime-like shortcuts.\n",
    "- Should not be used for developing Nengo GUI, given it takes forever to process TypeScript files.\n",
    "\n",
    "*People who use it*\n",
    "- Sean"
   ]
  },
  {
   "cell_type": "markdown",
   "metadata": {},
   "source": [
    "### Spyder\n",
    "[Spyder](https://pythonhosted.org/spyder/) is included in anaconda so you may already have it installed.\n",
    "\n",
    "*Strengths*\n",
    "- TBD\n",
    "\n",
    "*Weaknesses*\n",
    "- TBD\n",
    "\n",
    "*People who use it*\n",
    "- TBD\n"
   ]
  },
  {
   "cell_type": "markdown",
   "metadata": {},
   "source": [
    "### Visual Studio\n",
    "Microsoft released [an extension](https://marketplace.visualstudio.com/items?itemName=donjayamanne.python) for Python for visual studio.\n",
    "\n",
    "*Strengths*\n",
    "- TBD\n",
    "\n",
    "*Weaknesses*\n",
    "- TBD\n",
    "\n",
    "*People who use it*\n",
    "- Pete Suma"
   ]
  },
  {
   "cell_type": "markdown",
   "metadata": {},
   "source": [
    "## Editors\n",
    "\n",
    "Hopefully this won't turn into a flame war :) but here are some opinions on strengths and weakness of editors that people around the lab use.  Feel free to add your name if you use one of these."
   ]
  },
  {
   "cell_type": "markdown",
   "metadata": {},
   "source": [
    "### TextWrangler\n",
    "This is a solid text editor for Mac that's very customizable and free.\n",
    "\n",
    "*Strengths*\n",
    "- TBD\n",
    "\n",
    "*Weaknesses*\n",
    "- TBD\n",
    "\n",
    "*People who use it*\n",
    "- Chris"
   ]
  },
  {
   "cell_type": "markdown",
   "metadata": {},
   "source": [
    "### Visual Studio Code\n",
    "\n",
    "\n",
    "*Strengths*\n",
    "- Very fast\n",
    "- Excellent TypeScript support\n",
    "\n",
    "*Weaknesses*\n",
    "- TBD\n",
    "\n",
    "*People who use it*\n",
    "- Sean for Nengo GUI"
   ]
  },
  {
   "cell_type": "markdown",
   "metadata": {
    "collapsed": true
   },
   "source": [
    "### Sublime\n",
    "Cross-platform text editor.\n",
    "\n",
    "*Strengths*\n",
    "- TBD\n",
    "\n",
    "*Weaknesses*\n",
    "- Really annoying to install extensions for\n",
    "- Extensions are of wildly varying quality\n",
    "- Pop-up reminding you to buy a license\n",
    "\n",
    "*People who use it*\n",
    "- Xuan\n",
    "- Sean (as a fallback from PyCharm)\n",
    "- Peter Duggins"
   ]
  },
  {
   "cell_type": "markdown",
   "metadata": {},
   "source": [
    "### Emacs\n",
    "Cross-platform text editor.\n",
    "\n",
    "*Strengths*\n",
    "- Can give you god-like coding powers [citation needed]\n",
    "\n",
    "*Weaknesses*\n",
    "- Can give you [RSI](https://en.wikipedia.org/wiki/Repetitive_strain_injury) from the shortcuts [citation needed]\n",
    "\n",
    "*People who use it*\n",
    "- Eric Hunsberger\n",
    "- Trevor"
   ]
  },
  {
   "cell_type": "markdown",
   "metadata": {},
   "source": [
    "### Vim\n",
    "Cross-platform text editor.\n",
    "\n",
    "*Strengths*\n",
    "- Can give you god-like coding powers [citation needed]\n",
    "- Pretty much any Unix system will have a Vi (predecessor to Vim with reduced functionality) installed and it will often be the default editor unless you change it. (Though this might be more a weakness of Unix systems than a strength of Vim?)\n",
    "- [Undo branches](http://vim.wikia.com/wiki/Using_undo_branches)\n",
    "\n",
    "*Weaknesses*\n",
    "- Difficult to learn (Sean has tried on three seperate occasions unsuccessfully)\n",
    "\n",
    "*How to learn*\n",
    "- [Vimcasts](http://vimcasts.org/) is a collection short, high quality screen casts.\n",
    "- Type `vimtutor` in your terminal.\n",
    "\n",
    "*Recommendations for users*\n",
    "- [Remap the escape key](http://vim.wikia.com/wiki/Avoid_the_escape_key) as it isn't in an ergonomical position on modern keyboards.\n",
    "\n",
    "*Plugin recommendations*\n",
    "- [Vundle](https://github.com/VundleVim/Vundle.vim): Best Vim plugin manager in my (Jan's) opinion\n",
    "- [Command-T](https://github.com/wincent/command-t): Insanely fast file navigation (btw: the `t` shortcut on Github is very similar)\n",
    "- [Fugitive](https://github.com/tpope/vim-fugitive): Great Git plugin\n",
    "- [Gundo](https://sjl.bitbucket.io/gundo.vim/): Most intuitive way to use the undo branches\n",
    "- [LaTeX-Box](https://github.com/LaTeX-Box-Team/LaTeX-Box): Light-weight Latex plugin\n",
    "- [The NERD Commenter](http://www.vim.org/scripts/script.php?script_id=1218): Quickly comment and uncomment blocks of code\n",
    "- [vim-surround](https://github.com/tpope/vim-surround): Quickly replace one type of parenthesis/brackets/braces/quotes/... with another\n",
    "- [Syntastic](https://github.com/vim-syntastic/syntastic): *The* syntax checking plugin\n",
    "- [YouCompleteMe](http://valloric.github.io/YouCompleteMe/): Best code completion plugin\n",
    "\n",
    "\n",
    "*People who use it*\n",
    "- Terry\n",
    "- Brent\n",
    "- Ivana\n",
    "- Jan"
   ]
  },
  {
   "cell_type": "markdown",
   "metadata": {
    "collapsed": true
   },
   "source": [
    "## Syntax color schemes\n",
    "\n",
    "- [Solarized](http://ethanschoonover.com/solarized): Beatiful and well thought out color scheme, provided for a large number of editors. Has a light and a dark version.\n",
    "![palette](http://ethanschoonover.com/solarized/img/solarized-palette.png)\n",
    "![example](http://ethanschoonover.com/solarized/img/solarized-vim.png)"
   ]
  },
  {
   "cell_type": "code",
   "execution_count": null,
   "metadata": {
    "collapsed": true
   },
   "outputs": [],
   "source": []
  }
 ],
 "metadata": {
  "kernelspec": {
   "display_name": "Python 2",
   "language": "python",
   "name": "python2"
  },
  "language_info": {
   "codemirror_mode": {
    "name": "ipython",
    "version": 2
   },
   "file_extension": ".py",
   "mimetype": "text/x-python",
   "name": "python",
   "nbconvert_exporter": "python",
   "pygments_lexer": "ipython2",
   "version": "2.7.12"
  }
 },
 "nbformat": 4,
 "nbformat_minor": 0
}
