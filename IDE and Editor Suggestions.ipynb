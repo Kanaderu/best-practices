{
 "cells": [
  {
   "cell_type": "markdown",
   "metadata": {},
   "source": [
    "## IDEs\n",
    "\n",
    "This is a list and short description of strengths and weaknesses of various IDEs for python you might come across.  Feel free to add your name if you use one of these.  Lots of people seem to prefer simply using a good text editor (see below), but IDEs definitely have some benefits (e.g. integrated consoles, debuggers, integrated git, etc.).  Here's a long list of [Python IDEs](https://wiki.python.org/moin/IntegratedDevelopmentEnvironments)."
   ]
  },
  {
   "cell_type": "markdown",
   "metadata": {},
   "source": [
    "### Pycharm\n",
    "[Pycharm](https://www.jetbrains.com/pycharm/) is reasonably new, but a few people in the lab really like it.\n",
    "\n",
    "*Strengths*\n",
    "- Works really well with minimal configuration tweaking\n",
    "- Has a really good debugger and profiler\n",
    "- Code completion and analysis runs faster than in other editors\n",
    "- Lower learning curve if you're not used to the Command Line\n",
    "- Cross-platform\n",
    "- Good for web-dev (Nengo GUI)\n",
    "\n",
    "*Weaknesses*\n",
    "- Still has a bit of a learning curve\n",
    "- Some really weird keyboard shortcuts if you're used to other editors\n",
    "\n",
    "*People who use it*\n",
    "- Sean"
   ]
  },
  {
   "cell_type": "markdown",
   "metadata": {},
   "source": [
    "### Spyder\n",
    "[Spyder](https://pythonhosted.org/spyder/) is included in anaconda so you may already have it installed.\n",
    "\n",
    "*Strengths*\n",
    "- TBD\n",
    "\n",
    "*Weaknesses*\n",
    "- TBD\n",
    "\n",
    "*People who use it*\n",
    "- TBD\n"
   ]
  },
  {
   "cell_type": "markdown",
   "metadata": {},
   "source": [
    "### Visual Studio\n",
    "Microsoft released [an extension](https://marketplace.visualstudio.com/items?itemName=donjayamanne.python) for Python for visual studio.\n",
    "\n",
    "*Strengths*\n",
    "- TBD\n",
    "\n",
    "*Weaknesses*\n",
    "- TBD\n",
    "\n",
    "*People who use it*\n",
    "- Pete Suma"
   ]
  },
  {
   "cell_type": "markdown",
   "metadata": {},
   "source": [
    "## Editors\n",
    "\n",
    "Hopefully this won't turn into a random flame war or anything :) but here are some opinions on strengths and weakness of editors that people around the lab use.  Feel free to add your name if you use one of these."
   ]
  },
  {
   "cell_type": "markdown",
   "metadata": {},
   "source": [
    "### TextWrangler\n",
    "This is a solid text editor for Mac that's very customizable and free.\n",
    "\n",
    "*Strengths*\n",
    "- TBD\n",
    "\n",
    "*Weaknesses*\n",
    "- TBD\n",
    "\n",
    "*People who use it*\n",
    "- Chris"
   ]
  },
  {
   "cell_type": "markdown",
   "metadata": {
    "collapsed": true
   },
   "source": [
    "### Sublime\n",
    "Cross-platform text editor.\n",
    "\n",
    "*Strengths*\n",
    "- TBD\n",
    "\n",
    "*Weaknesses*\n",
    "- Really annoying to install extensions for\n",
    "- Extensions are of wildly varying quality\n",
    "- Pop-up reminding you to buy a license\n",
    "\n",
    "*People who use it*\n",
    "- Xuan\n",
    "- Sean (sometimes)\n",
    "- Peter Duggins"
   ]
  },
  {
   "cell_type": "markdown",
   "metadata": {},
   "source": [
    "### Emacs\n",
    "Cross-platform text editor.\n",
    "\n",
    "*Strengths*\n",
    "- Can give you god-like coding powers [citation needed]\n",
    "\n",
    "*Weaknesses*\n",
    "- TBD\n",
    "\n",
    "*People who use it*\n",
    "- Eric Hunsberger\n",
    "- Trevor"
   ]
  },
  {
   "cell_type": "markdown",
   "metadata": {},
   "source": [
    "### Vim\n",
    "Cross-platform text editor.\n",
    "\n",
    "*Strengths*\n",
    "- Can give you god-like coding powers [citation needed]\n",
    "\n",
    "*Weaknesses*\n",
    "- Difficult to learn (Sean has tried on three seperate occasions unsuccessfully)\n",
    "\n",
    "*People who use it*\n",
    "- Terry\n",
    "- Brent\n",
    "- Ivana\n",
    "- Jan"
   ]
  },
  {
   "cell_type": "code",
   "execution_count": null,
   "metadata": {
    "collapsed": true
   },
   "outputs": [],
   "source": []
  }
 ],
 "metadata": {
  "kernelspec": {
   "display_name": "Python 2",
   "language": "python",
   "name": "python2"
  },
  "language_info": {
   "codemirror_mode": {
    "name": "ipython",
    "version": 2
   },
   "file_extension": ".py",
   "mimetype": "text/x-python",
   "name": "python",
   "nbconvert_exporter": "python",
   "pygments_lexer": "ipython2",
   "version": "2.7.6"
  }
 },
 "nbformat": 4,
 "nbformat_minor": 0
}
