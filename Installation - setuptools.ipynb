{
 "cells": [
  {
   "cell_type": "markdown",
   "metadata": {},
   "source": [
    "# Installation\n",
    "\n",
    "Purpose: set up a fresh computer to be able to run all aspects of your model and analysis."
   ]
  },
  {
   "cell_type": "markdown",
   "metadata": {
    "collapsed": true
   },
   "source": [
    "**SetupTools**:\n",
    "- Makes your code importable using Python\n",
    "- Checks all requirements are satisified\n",
    "- Makes your code executable in the shell regardless of the OS\n",
    "\n",
    "**Bonus features not covered in this talk**:\n",
    "- Keeping track of your versions\n",
    "- Uploading stuff to PyPi"
   ]
  },
  {
   "cell_type": "markdown",
   "metadata": {},
   "source": [
    "## `setup.py`\n",
    "\n",
    "Packaging, getting stuff to run reliably on various platforms, is hard, but SetupTools tries to make it easier in Python. Learning to use SetupTools starts with learning to use the `setup.py` file. If you have pip installed, then you have SetupTools installed."
   ]
  },
  {
   "cell_type": "markdown",
   "metadata": {},
   "source": [
    "## Making your code importable\n",
    "\n",
    "Let's say you're trying to make a package called `bugkiller` and you want to be able run `import bugkiller` from other Python programs. Assume your folder structure looks like:\n",
    "\n",
    "    |- README.md\n",
    "    |- killer\n",
    "    |   |-- __init__.py\n",
    "    |   |-- kill.py\n",
    "    |   | -- tests\n",
    "    |   |   |-- test_kill.py\n",
    "    \n",
    "Wherein 'kill.py' contains two functions: `spray()` and `shoot()`.\n",
    "\n",
    "And the root folder is named something like `bughandler-project`. The first thing you need to do is make a `setup.py` file in the root directory with the contents indicated below and run `python setup.py develop`:"
   ]
  },
  {
   "cell_type": "code",
   "execution_count": null,
   "metadata": {
    "collapsed": false
   },
   "outputs": [],
   "source": [
    "from setuptools import setup\n",
    "\n",
    "setup(\n",
    "    name='bughandler',\n",
    "    packages=['killer']\n",
    ")"
   ]
  },
  {
   "cell_type": "markdown",
   "metadata": {},
   "source": [
    "Now when you run `import killer` you won't get an error. But what if `killer` isn't your only package? What if you want to add `lover` later? Isn't defining all the packages going to be tiresome? That's where `find_packages` comes in. Try this code in your `setup.py` file:"
   ]
  },
  {
   "cell_type": "code",
   "execution_count": null,
   "metadata": {
    "collapsed": false
   },
   "outputs": [],
   "source": [
    "from setuptools import setup, find_packages\n",
    "\n",
    "setup(\n",
    "    name='bughandler',\n",
    "    packages=find_packages()\n",
    ")"
   ]
  },
  {
   "cell_type": "markdown",
   "metadata": {},
   "source": [
    "This should have the same effect. Obviously, if you really want your import statement to do something useful, you're going to need to add some content to `kill.py` and access it via `import killer.kill`."
   ]
  },
  {
   "cell_type": "markdown",
   "metadata": {},
   "source": [
    "**Note**: Usually your `name` and your root package have the same string (for example, in the Nengo repository), but I avoided that case here to reduce confusion."
   ]
  },
  {
   "cell_type": "markdown",
   "metadata": {},
   "source": [
    "## Requirements"
   ]
  },
  {
   "cell_type": "markdown",
   "metadata": {},
   "source": [
    "Let's say `bughandler` depends the PyPi package `six` any version after `1.9`. How can you make sure that the user has that package installed in the least instrusive way? SetupTools has you covered with the `install_requires` argument to the `setup` function:"
   ]
  },
  {
   "cell_type": "code",
   "execution_count": null,
   "metadata": {
    "collapsed": true
   },
   "outputs": [],
   "source": [
    "from setuptools import setup, find_packages\n",
    "\n",
    "setup(\n",
    "    name='bughandler',\n",
    "    packages=find_packages(),\n",
    "    install_requires=[\n",
    "        \"six>=1.9\",\n",
    "    ],\n",
    ")"
   ]
  },
  {
   "cell_type": "markdown",
   "metadata": {},
   "source": [
    "Now if the user doesn't have the right version of `six` installed, it should be installed for them via PyPi when they run `python setup.py develop`."
   ]
  },
  {
   "cell_type": "markdown",
   "metadata": {},
   "source": [
    "## Script/Command Generation\n",
    "\n",
    "Sometimes you have a standalone application that you want a user to be able to use from their commandline. Regardless of the OS, SetupTools has got you covered here too with the `entry_points` argument.\n",
    "\n",
    "Although `entry_points` can also be used to [extend your application with plugins](https://pythonhosted.org/setuptools/setuptools.html#dynamic-discovery-of-services-and-plugins), this section will only focus on creating shell scripts, like the Nengo GUI, with another argument to `setup()`."
   ]
  },
  {
   "cell_type": "code",
   "execution_count": null,
   "metadata": {
    "collapsed": true
   },
   "outputs": [],
   "source": [
    "from setuptools import setup, find_packages\n",
    "\n",
    "setup(\n",
    "    name='bughandler',\n",
    "    packages=find_packages(),\n",
    "    entry_points={\n",
    "        'console_scripts': [\n",
    "            'spray_bug = killer.kill:spray',\n",
    "            'shoot_bug = killer.kill:shoot',\n",
    "        ]\n",
    "    }\n",
    ")"
   ]
  },
  {
   "cell_type": "markdown",
   "metadata": {},
   "source": [
    "The final product of all this hard work can be found on [`Seanny123/bugkiller` repository](https://github.com/Seanny123/bugkiller). "
   ]
  }
 ],
 "metadata": {
  "kernelspec": {
   "display_name": "Python 2",
   "language": "python",
   "name": "python2"
  },
  "language_info": {
   "codemirror_mode": {
    "name": "ipython",
    "version": 2
   },
   "file_extension": ".py",
   "mimetype": "text/x-python",
   "name": "python",
   "nbconvert_exporter": "python",
   "pygments_lexer": "ipython2",
   "version": "2.7.6"
  }
 },
 "nbformat": 4,
 "nbformat_minor": 0
}
