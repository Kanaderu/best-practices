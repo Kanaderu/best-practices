{
 "cells": [
  {
   "cell_type": "markdown",
   "metadata": {},
   "source": [
    "# Communication between components\n",
    "\n",
    "Purpose: If we are connecting to hardware or otherwise doing something involving multiple computers or even separate processes on the same computer, we need some easy way to pass data between them."
   ]
  },
  {
   "cell_type": "markdown",
   "metadata": {},
   "source": [
    "There are a bunch of options here, and usually in the past I've done something like generating a UDP send/receive sort of setup.  However, a few people have pointed out Redis as an interesting option, and I'm kind of liking it."
   ]
  },
  {
   "cell_type": "markdown",
   "metadata": {},
   "source": [
    "### What is redis?\n",
    "\n",
    "From the website http://redis.io:\n",
    "> Redis is an open source (BSD licensed), in-memory data structure store, used as database, cache and message broker. It supports data structures such as strings, hashes, lists, sets, sorted sets with range queries, bitmaps, hyperloglogs and geospatial indexes with radius queries. Redis has built-in replication, Lua scripting, LRU eviction, transactions and different levels of on-disk persistence, and provides high availability via Redis Sentinel and automatic partitioning with Redis Cluster.\n",
    " \n",
    "So that's fairly overkill for what we need, but it turns out that if we turn off persistence, it's a pretty clean solution to what we want.  The idea is that you run a server locally, and all your processes just talk with it.  It's got good bindings for Python and is nice and fast (it's meant for lots and lots of small messages)"
   ]
  },
  {
   "cell_type": "markdown",
   "metadata": {},
   "source": [
    "### Installing redis\n",
    "\n",
    "On Ubuntu, you can just do ```sudo apt-get install redis-server```.  This will install it such that the server will automatically start running in the background.  You can configure the server by editing ```/etc/redis/redis.conf``` and then doing ```sudo service redis-server restart```.  \n",
    "\n",
    "Alternatively, you can build it from source by following these instructions http://redis.io/download#installation:\n",
    "* ```wget http://download.redis.io/releases/redis-stable.tar.gz```\n",
    "* ```tar xzf redis-stable.tar.gz```\n",
    "* ```cd redis-stable```\n",
    "* ```make```\n",
    "\n",
    "And now run it with\n",
    "* ```src/redis-server```\n",
    "\n",
    "(I prefer the second approach, just because I like only having the server running when I want it and I forget to manually shut down the server with ```redis-cli shutdown```).\n",
    "\n",
    "For windows users, grab the latest installer from https://github.com/MSOpenTech/redis/releases\n",
    "\n",
    "Finally, no matter what you do, you'll probably want the Python bindings for redis, which you can get with\n",
    "\n",
    "```pip install redis```"
   ]
  },
  {
   "cell_type": "markdown",
   "metadata": {},
   "source": [
    "### Configuring redis\n",
    "\n",
    "We don't quite want the default settings for redis, so we need to make some small changes.  We do this through a ```redis.conf``` file.  This will either already exist (if you installed it with apt-get), in which case append these commands to the end of the file, or just make a new text file with just these commands in it.\n",
    "\n",
    "The main thing to do is turn off persistence.  By default, redis dumps all of its information to a file every now and then so that it's possible to do backup recovery.  We don't want this for our case, so we add this line to the end of the ```redis.conf``` file:\n",
    "\n",
    "```save \"\"```\n",
    "\n",
    "That's all we definitely have to do, but we may also want to allow remote connections.  If you're in a situation where multiple computers are accessing the data (i.e. it's not all just local processes on your computer), then add this line:\n",
    "\n",
    "```bind 0.0.0.0```\n",
    "\n",
    "\n"
   ]
  },
  {
   "cell_type": "markdown",
   "metadata": {},
   "source": [
    "### Passing data with Redis\n",
    "\n",
    "Once the server is running, we can talk to it from python like this:"
   ]
  },
  {
   "cell_type": "code",
   "execution_count": 41,
   "metadata": {
    "collapsed": false
   },
   "outputs": [
    {
     "name": "stdout",
     "output_type": "stream",
     "text": [
      "value\n"
     ]
    }
   ],
   "source": [
    "import redis\n",
    "\n",
    "r = redis.StrictRedis(host='localhost')\n",
    "\n",
    "r.set('key', 'value')\n",
    "print r.get('key')"
   ]
  },
  {
   "cell_type": "markdown",
   "metadata": {},
   "source": [
    "The simplest thing we can do with the Redis server is to set and get key values.  The keys are strings and the values are strings, so you can do whatever you want here.  Here's a quick example of using it to have two different Nengo models talk to each other.  If you start both of these models running, the value in the first one is sent to the second one."
   ]
  },
  {
   "cell_type": "code",
   "execution_count": 47,
   "metadata": {
    "collapsed": false
   },
   "outputs": [
    {
     "data": {
      "text/html": [
       "\n",
       "                <div id=\"545572db-4848-42a1-b11a-6b77f5538524\">\n",
       "                    <iframe\n",
       "                        src=\"http://localhost:55354\"\n",
       "                        width=\"100%\"\n",
       "                        height=\"600\"\n",
       "                        frameborder=\"0\"\n",
       "                        class=\"cell\"\n",
       "                        style=\"border: 1px solid #eee;\"\n",
       "                        allowfullscreen></iframe>\n",
       "                </div>\n",
       "            "
      ],
      "text/plain": [
       "<IPython.core.display.HTML object>"
      ]
     },
     "metadata": {},
     "output_type": "display_data"
    }
   ],
   "source": [
    "import nengo\n",
    "import numpy as np\n",
    "\n",
    "r = redis.StrictRedis(host='localhost')\n",
    "model1 = nengo.Network()\n",
    "with model1:\n",
    "    stim = nengo.Node(np.sin)\n",
    "    a = nengo.Ensemble(100, 1)\n",
    "    output = nengo.Node(lambda t, x: r.set('decoded_value', x[0]), size_in=1)\n",
    "    nengo.Connection(stim, a)    \n",
    "    nengo.Connection(a, output)\n",
    "    \n",
    "import nengo_gui.ipython\n",
    "nengo_gui.ipython.IPythonViz(model1, 'model1.cfg')"
   ]
  },
  {
   "cell_type": "code",
   "execution_count": 48,
   "metadata": {
    "collapsed": false
   },
   "outputs": [
    {
     "data": {
      "text/html": [
       "\n",
       "                <div id=\"a61d5f3a-da8c-4a32-9206-4a06cee58ecd\">\n",
       "                    <iframe\n",
       "                        src=\"http://localhost:55484\"\n",
       "                        width=\"100%\"\n",
       "                        height=\"600\"\n",
       "                        frameborder=\"0\"\n",
       "                        class=\"cell\"\n",
       "                        style=\"border: 1px solid #eee;\"\n",
       "                        allowfullscreen></iframe>\n",
       "                </div>\n",
       "            "
      ],
      "text/plain": [
       "<IPython.core.display.HTML object>"
      ]
     },
     "metadata": {},
     "output_type": "display_data"
    }
   ],
   "source": [
    "import nengo\n",
    "import numpy as np\n",
    "\n",
    "r2 = redis.StrictRedis(host='localhost')\n",
    "\n",
    "model2 = nengo.Network()\n",
    "with model2:\n",
    "    reader = nengo.Node(lambda t: float(r2.get('decoded_value')))\n",
    "    a = nengo.Ensemble(100, 1)\n",
    "    nengo.Connection(reader, a)    \n",
    "    \n",
    "import nengo_gui.ipython\n",
    "nengo_gui.ipython.IPythonViz(model2, 'model2.cfg')"
   ]
  },
  {
   "cell_type": "markdown",
   "metadata": {},
   "source": [
    "### Naming keys\n",
    "\n",
    "If we start using this a lot, we might start running into problems with key collisions if two different models are running at the same time, both using the same key value.  So it's a good idea to not use a generic key like ```decoded_value``` and instead introduce some sort of namespace.  For example, you might call your keys ```mymodel.arm_angle``` and ```mymodel.velocity```, where the first part is some identifier for your model."
   ]
  },
  {
   "cell_type": "markdown",
   "metadata": {},
   "source": [
    "### Values are strings\n",
    "\n",
    "Remember that values are stored as strings -- that's why I had to cast it to a float in ```model2``` above.  "
   ]
  },
  {
   "cell_type": "markdown",
   "metadata": {},
   "source": [
    "### Other Redis data types\n",
    "\n",
    "Redis has a range of other data types for various use cases.  There's a good overview at http://redis.io/topics/data-types-intro.  \n",
    "\n",
    "\n",
    "> * Binary-safe strings.\n",
    "> * Lists: collections of string elements sorted according to the order of insertion. They are basically linked lists.\n",
    "> * Sets: collections of unique, unsorted string elements.\n",
    "> * Sorted sets, similar to Sets but where every string element is associated to a floating number value, called score. The elements are always taken sorted by their score, so unlike Sets it is possible to retrieve a range of elements (for example you may ask: give me the top 10, or the bottom 10).\n",
    "> * Hashes, which are maps composed of fields associated with values. Both the field and the value are strings. This is very similar to Ruby or Python hashes.\n",
    "> * Bit arrays (or simply bitmaps): it is possible, using special commands, to handle String values like an array of bits: you can set and clear individual bits, count all the bits set to 1, find the first set or unset bit, and so forth.\n",
    "> * HyperLogLogs: this is a probabilistic data structure which is used in order to estimate the cardinality of a set.\n",
    "\n",
    "Mostly, I think the string is the main one we'd use, although I could also see the bitarray being handy.  Notice that there is no array type, unfortunately.\n",
    "\n"
   ]
  },
  {
   "cell_type": "markdown",
   "metadata": {},
   "source": [
    "### Publish / Subscribe and Produce/Consume\n",
    "\n",
    "Redis also supports allowing systems to subscribe to a list of keys and get those changes automatically.  I haven't played with that at all, though, but it seems like it'd be handy.  Also, there's nice ways to do produce/consume for syncronization, if we want that."
   ]
  },
  {
   "cell_type": "code",
   "execution_count": null,
   "metadata": {
    "collapsed": true
   },
   "outputs": [],
   "source": []
  }
 ],
 "metadata": {
  "kernelspec": {
   "display_name": "Python 2",
   "language": "python",
   "name": "python2"
  },
  "language_info": {
   "codemirror_mode": {
    "name": "ipython",
    "version": 2
   },
   "file_extension": ".py",
   "mimetype": "text/x-python",
   "name": "python",
   "nbconvert_exporter": "python",
   "pygments_lexer": "ipython2",
   "version": "2.7.5"
  }
 },
 "nbformat": 4,
 "nbformat_minor": 0
}
